{
 "cells": [
  {
   "cell_type": "markdown",
   "metadata": {},
   "source": [
    "# Data Preparation\n",
    "\n",
    "`Overview`\n",
    "This notebook handles the initial data processing pipeline:\n",
    "- Loading raw data from source files\n",
    "- Performing exploratory data analysis (EDA)\n",
    "- Cleaning and handling missing values\n",
    "- Feature preprocessing and engineering\n",
    "- Exporting processed datasets for modeling\n",
    "\n",
    "`Inputs`\n",
    "- Raw data files from `../data/raw/` \n",
    "\n",
    "`Outputs`\n",
    "- Processed datasets in `../data/processed/`\n",
    "- EDA visualizations in `../reports/figures/`\n",
    "\n",
    "`Dependencies`\n",
    "- pandas\n",
    "- numpy\n",
    "- matplotlib\n",
    "- seaborn\n",
    "\n",
    "*Note: This is notebook 1 of the analysis pipeline*"
   ]
  }
 ],
 "metadata": {
  "language_info": {
   "name": "python"
  }
 },
 "nbformat": 4,
 "nbformat_minor": 2
}
