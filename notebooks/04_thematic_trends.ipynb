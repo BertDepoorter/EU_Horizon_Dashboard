{
 "cells": [
  {
   "cell_type": "markdown",
   "metadata": {},
   "source": [
    "# Thematic Trends Analysis\n",
    "\n",
    "`Overview`\n",
    "This notebook focuses on text analysis and topic modeling of EU Horizon project descriptions:\n",
    "- Preprocessing text data (tokenization, stopword removal, lemmatization)\n",
    "- Implementing Latent Dirichlet Allocation (LDA) for topic modeling\n",
    "- Visualizing topic distributions and evolution over time\n",
    "- Analyzing keyword frequencies and co-occurrences\n",
    "- Identifying emerging research trends across funding periods\n",
    "\n",
    "`Inputs`\n",
    "- Processed project description data from `../data/processed/`\n",
    "- Additional stopwords and domain-specific dictionaries if needed\n",
    "\n",
    "`Outputs`\n",
    "- Topic model results in `../models/topic_models/`\n",
    "- Thematic visualizations in `../reports/figures/themes/`\n",
    "- Topic-keyword mappings in `../data/processed/topics/`\n",
    "\n",
    "`Dependencies`\n",
    "- nltk\n",
    "- gensim\n",
    "- scikit-learn\n",
    "- pyLDAvis\n",
    "- spaCy\n",
    "- wordcloud\n",
    "\n",
    "*Note: This is notebook 4 of the analysis pipeline*"
   ]
  }
 ],
 "metadata": {
  "language_info": {
   "name": "python"
  }
 },
 "nbformat": 4,
 "nbformat_minor": 2
}
