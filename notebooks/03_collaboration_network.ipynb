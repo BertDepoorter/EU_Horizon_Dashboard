{
 "cells": [
  {
   "cell_type": "markdown",
   "metadata": {},
   "source": [
    "# Collaboration Network Analysis\n",
    "\n",
    "`Overview`\n",
    "This notebook analyzes and visualizes collaboration networks between countries and institutions:\n",
    "- Constructing network graphs from project partnership data\n",
    "- Analyzing network metrics (centrality, clustering, community detection)\n",
    "- Creating interactive network visualizations\n",
    "- Identifying key collaboration patterns and influential nodes\n",
    "\n",
    "`Inputs`\n",
    "- Processed project and partnership data from `../data/processed/`\n",
    "\n",
    "`Outputs`\n",
    "- Network analysis results in `../data/results/`\n",
    "- Interactive network visualizations in `../reports/figures/`\n",
    "\n",
    "`Dependencies`\n",
    "- NetworkX\n",
    "- Matplotlib\n",
    "- Plotly\n",
    "- Pandas\n",
    "- Community detection libraries\n",
    "\n",
    "*Note: This is notebook 3 of the analysis pipeline focusing on collaboration patterns*"
   ]
  },
  {
   "cell_type": "code",
   "execution_count": 5,
   "metadata": {},
   "outputs": [],
   "source": [
    "# imports\n",
    "import os\n",
    "import sys\n",
    "import pandas as pd\n",
    "import numpy as np\n",
    "import plotly.express as px\n",
    "import plotly.graph_objects as go\n",
    "\n",
    "import networkx as nx\n",
    "\n",
    "# Import custom modules\n",
    "run_dir = os.getcwd()\n",
    "parent_dir = os.path.dirname(run_dir)\n",
    "sys.path.append(parent_dir)\n",
    "\n",
    "from backend.utils.plots import CORDISPlots\n",
    "from backend.classes.cordis_data import CORDIS_data\n",
    "\n",
    "from backend.classes.project_data  import Project_data"
   ]
  },
  {
   "cell_type": "markdown",
   "metadata": {},
   "source": [
    "## Explore possibilities of NetworkX package\n",
    "We aim to create the following plots: \n",
    "- Frequent collaborating institutions. Indicate the 20 most frequent collaborations with lines on a map\n",
    "- Frequently collaborating people. Determine from the authors list of the publications\n",
    "- project-deliverable plots: which projects produce the main number of plots"
   ]
  },
  {
   "cell_type": "code",
   "execution_count": null,
   "metadata": {},
   "outputs": [],
   "source": []
  },
  {
   "cell_type": "code",
   "execution_count": null,
   "metadata": {},
   "outputs": [],
   "source": []
  },
  {
   "cell_type": "code",
   "execution_count": null,
   "metadata": {},
   "outputs": [],
   "source": []
  }
 ],
 "metadata": {
  "kernelspec": {
   "display_name": "MDA",
   "language": "python",
   "name": "python3"
  },
  "language_info": {
   "codemirror_mode": {
    "name": "ipython",
    "version": 3
   },
   "file_extension": ".py",
   "mimetype": "text/x-python",
   "name": "python",
   "nbconvert_exporter": "python",
   "pygments_lexer": "ipython3",
   "version": "3.13.2"
  }
 },
 "nbformat": 4,
 "nbformat_minor": 2
}
