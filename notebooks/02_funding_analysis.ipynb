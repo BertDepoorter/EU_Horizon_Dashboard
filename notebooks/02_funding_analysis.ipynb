{
 "cells": [
  {
   "cell_type": "markdown",
   "metadata": {},
   "source": [
    "# Funding Analysis\n",
    "\n",
    "`Overview`\n",
    "This notebook focuses on analyzing EU Horizon funding data:\n",
    "- Exploring funding distribution across countries\n",
    "- Analyzing research domain allocations\n",
    "- Visualizing organization participation patterns\n",
    "- Identifying temporal funding trends\n",
    "- Creating interactive visualizations for data exploration\n",
    "\n",
    "`Inputs`\n",
    "- Processed datasets from `../data/processed/` \n",
    "\n",
    "`Outputs`\n",
    "- Funding analysis visualizations in `../reports/figures/`\n",
    "- Interactive plots for dashboard integration\n",
    "- Summary statistics in `../reports/funding_insights.csv`\n",
    "\n",
    "`Dependencies`\n",
    "- pandas\n",
    "- numpy\n",
    "- matplotlib\n",
    "- seaborn\n",
    "- plotly\n",
    "- geopandas\n",
    "\n",
    "*Note: This is notebook 2 of the analysis pipeline*"
   ]
  }
 ],
 "metadata": {
  "language_info": {
   "name": "python"
  }
 },
 "nbformat": 4,
 "nbformat_minor": 2
}
